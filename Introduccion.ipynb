{
  "nbformat": 4,
  "nbformat_minor": 0,
  "metadata": {
    "colab": {
      "name": "Untitled8.ipynb",
      "provenance": [],
      "authorship_tag": "ABX9TyPLMAQRkTq8pROczLe1m3bq",
      "include_colab_link": true
    },
    "kernelspec": {
      "name": "python3",
      "display_name": "Python 3"
    },
    "language_info": {
      "name": "python"
    }
  },
  "cells": [
    {
      "cell_type": "markdown",
      "metadata": {
        "id": "view-in-github",
        "colab_type": "text"
      },
      "source": [
        "<a href=\"https://colab.research.google.com/github/Sphinx500/Train-and-evaluate-regression-models/blob/main/Introduccion.ipynb\" target=\"_parent\"><img src=\"https://colab.research.google.com/assets/colab-badge.svg\" alt=\"Open In Colab\"/></a>"
      ]
    },
    {
      "cell_type": "markdown",
      "metadata": {
        "id": "E_MFVYjQWI23"
      },
      "source": [
        "# Introducción"
      ]
    },
    {
      "cell_type": "markdown",
      "metadata": {
        "id": "mOlmbSgTWNul"
      },
      "source": [
        "La regresión es donde los modelos predicen un número.\n",
        "\n",
        "En el aprendizaje automático, el objetivo de la regresión es crear un modelo que pueda predecir un valor numérico cuantificable, como un precio, una cantidad, un tamaño u otro número escalar.\n",
        "\n",
        "La regresión es una técnica estadística de fundamental importancia para la ciencia debido a su facilidad de interpretación, robustez y rapidez en el cálculo. Los modelos de regresión proporcionan una base excelente para comprender cómo funcionan las técnicas de aprendizaje automático más complejas.\n",
        "\n",
        "En situaciones del mundo real, particularmente cuando hay pocos datos disponibles, los modelos de regresión son muy útiles para hacer predicciones. Por ejemplo, si una empresa que alquila bicicletas desea predecir el número esperado de alquileres en un día determinado en el futuro, un modelo de regresión puede predecir este número. Se podría crear un modelo utilizando datos existentes, como el número de bicicletas que se alquilaron en los días en los que también se registraron la temporada, el día de la semana, etc."
      ]
    },
    {
      "cell_type": "markdown",
      "metadata": {
        "id": "7lUAmtosWUJP"
      },
      "source": [
        "**Prerrequisitos**\n",
        "1. Conocimiento de matemáticas básicas.\n",
        "2. Alguna experiencia programando en Python.\n",
        "3. Objetivos de aprendizaje.\n",
        "\n",
        "En este módulo, podrá:\n",
        "\n",
        "\n",
        "1. Cuándo usar modelos de regresión.\n",
        "2. Cómo entrenar y evaluar modelos de regresión usando el marco Scikit-Learn."
      ]
    }
  ]
}