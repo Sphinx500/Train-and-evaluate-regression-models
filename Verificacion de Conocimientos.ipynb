{
  "nbformat": 4,
  "nbformat_minor": 0,
  "metadata": {
    "colab": {
      "name": "Untitled13.ipynb",
      "provenance": [],
      "authorship_tag": "ABX9TyOHZeLzkep9Etq5jAaJwTSW",
      "include_colab_link": true
    },
    "kernelspec": {
      "name": "python3",
      "display_name": "Python 3"
    },
    "language_info": {
      "name": "python"
    }
  },
  "cells": [
    {
      "cell_type": "markdown",
      "metadata": {
        "id": "view-in-github",
        "colab_type": "text"
      },
      "source": [
        "<a href=\"https://colab.research.google.com/github/Sphinx500/Train-and-evaluate-regression-models/blob/main/Verificacion%20de%20Conocimientos.ipynb\" target=\"_parent\"><img src=\"https://colab.research.google.com/assets/colab-badge.svg\" alt=\"Open In Colab\"/></a>"
      ]
    },
    {
      "cell_type": "markdown",
      "metadata": {
        "id": "-XSrICRqU0pC"
      },
      "source": [
        "# Verificación de conocimientos"
      ]
    },
    {
      "cell_type": "markdown",
      "metadata": {
        "id": "H5JlKnXWU3iC"
      },
      "source": [
        "Responda las siguientes preguntas para comprobar su aprendizaje.\n",
        "\n",
        "1. Está utilizando scikit-learn para entrenar un modelo de regresión a partir de un conjunto de datos de ventas. Desea poder evaluar el modelo para asegurarse de que predecirá con precisión con nuevos datos. ¿Qué deberías hacer?\n",
        "\n",
        "**Divida los datos al azar en dos subconjuntos. Utilice un subconjunto para entrenar el modelo y el otro para evaluarlo**\n",
        "\n",
        "\n"
      ]
    },
    {
      "cell_type": "markdown",
      "metadata": {
        "id": "gIC-Goi-U9nF"
      },
      "source": [
        "2. Ha creado un objeto modelo utilizando la clase Scikit-learn LinearRegression. ¿Qué debes hacer para entrenar al modelo?\n",
        "\n",
        "**Llame al método fit () del objeto modelo, especificando la función de entrenamiento y las matrices de etiquetas**\n"
      ]
    },
    {
      "cell_type": "markdown",
      "metadata": {
        "id": "DSEMpD43VABY"
      },
      "source": [
        "3. Entrena un modelo de regresión usando scikit-learn. Cuando lo evalúa con datos de prueba, determina que el modelo alcanza una métrica R cuadrado de 0,95. ¿Qué te dice esta métrica sobre el modelo?\n",
        "\n",
        "**El modelo explica la mayor parte de la varianza entre los valores predichos y reales.**\n",
        "\n"
      ]
    }
  ]
}