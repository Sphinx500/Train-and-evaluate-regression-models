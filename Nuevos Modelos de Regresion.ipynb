{
  "nbformat": 4,
  "nbformat_minor": 0,
  "metadata": {
    "colab": {
      "name": "Untitled11.ipynb",
      "provenance": [],
      "authorship_tag": "ABX9TyO4wI5PI5u9J1+3qJhMgyp2",
      "include_colab_link": true
    },
    "kernelspec": {
      "name": "python3",
      "display_name": "Python 3"
    },
    "language_info": {
      "name": "python"
    }
  },
  "cells": [
    {
      "cell_type": "markdown",
      "metadata": {
        "id": "view-in-github",
        "colab_type": "text"
      },
      "source": [
        "<a href=\"https://colab.research.google.com/github/Sphinx500/Train-and-evaluate-regression-models/blob/main/Nuevos%20Modelos%20de%20Regresion.ipynb\" target=\"_parent\"><img src=\"https://colab.research.google.com/assets/colab-badge.svg\" alt=\"Open In Colab\"/></a>"
      ]
    },
    {
      "cell_type": "markdown",
      "metadata": {
        "id": "Rg8pSNzCgNXG"
      },
      "source": [
        "# Descubra nuevos modelos de regresión"
      ]
    },
    {
      "cell_type": "markdown",
      "metadata": {
        "id": "ccuRFI9SgJcQ"
      },
      "source": [
        "En la Unidad 2, analizamos cómo ajustar una línea recta a puntos de datos. Sin embargo, la regresión puede adaptarse a muchos tipos de relaciones, incluidas aquellas con múltiples factores y aquellas en las que la importancia de un factor depende de otro."
      ]
    },
    {
      "cell_type": "markdown",
      "metadata": {
        "id": "qM28xpv4gO41"
      },
      "source": [
        "# Experimentando con modelos\n",
        "Los modelos de regresión a menudo se eligen porque funcionan con pequeñas muestras de datos, son robustos, fáciles de interpretar y existe una variedad.\n",
        "\n",
        "La regresión lineal es la forma más simple de regresión, sin límite para el número de características utilizadas. La regresión lineal se presenta en muchas formas, a menudo nombradas por la cantidad de características utilizadas y la forma de la curva que se ajusta.\n",
        "\n",
        "Los árboles de decisión adoptan un enfoque paso a paso para predecir una variable. Si pensamos en nuestro ejemplo de bicicleta, el árbol de decisiones puede ser primero ejemplos divididos entre los que están durante la primavera / verano y el otoño / invierno, haga una predicción basada en el día de la semana. Los lunes de primavera / verano pueden tener una tarifa de alquiler de bicicletas de 100 por día, mientras que los lunes de otoño / invierno pueden tener una tarifa de alquiler de 20 por día.\n",
        "\n",
        "Los algoritmos de conjuntos construyen no solo un árbol de decisiones, sino una gran cantidad de árboles, lo que permite mejores predicciones sobre datos más complejos. Los algoritmos de conjuntos, como Random Forest, se utilizan ampliamente en el aprendizaje automático y la ciencia debido a sus sólidas capacidades de predicción.\n",
        "\n",
        "Los científicos de datos a menudo experimentan con el uso de diferentes modelos. En el siguiente ejercicio, experimentaremos con diferentes tipos de modelos para comparar cómo funcionan con los mismos datos."
      ]
    }
  ]
}